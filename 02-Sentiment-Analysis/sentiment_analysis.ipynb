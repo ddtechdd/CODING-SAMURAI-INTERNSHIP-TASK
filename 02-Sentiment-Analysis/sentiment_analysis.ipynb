{
 "cells": [
  {
   "cell_type": "code",
   "execution_count": 27,
   "id": "00d2185d",
   "metadata": {},
   "outputs": [],
   "source": [
    "# Data handling\n",
    "import pandas as pd\n",
    "import numpy as np\n",
    "\n",
    "# Text cleaning\n",
    "import re\n",
    "\n",
    "# Sentiment analysis\n",
    "from textblob import TextBlob\n",
    "\n",
    "# Twitter scraping\n",
    "import snscrape.modules.twitter as sntwitter  # 👈 insert this line here\n",
    "\n",
    "# Visualization\n",
    "import matplotlib.pyplot as plt\n",
    "import seaborn as sns\n",
    "from wordcloud import WordCloud\n"
   ]
  },
  {
   "cell_type": "code",
   "execution_count": 11,
   "id": "1d03347b",
   "metadata": {},
   "outputs": [
    {
     "name": "stdout",
     "output_type": "stream",
     "text": [
      "                                    Tweet Sentiment\n",
      "0          AI is transforming the future!  positive\n",
      "1  Can't believe how fast AI is evolving.  positive\n",
      "2      Not a fan of the latest AI trends.  negative\n",
      "3    AI ethics should be taken seriously.   neutral\n",
      "4            Machine learning is so cool!  positive\n"
     ]
    }
   ],
   "source": [
    "import pandas as pd\n",
    "\n",
    "# Use the full file path\n",
    "df = pd.read_csv(r\"C:\\Users\\91944\\Desktop\\sentimental-analysis-prediction\\100_tweets_sample.csv\")\n",
    "\n",
    "# Display the first few rows\n",
    "print(df.head())\n"
   ]
  },
  {
   "cell_type": "code",
   "execution_count": 13,
   "id": "51960fa2",
   "metadata": {},
   "outputs": [
    {
     "name": "stdout",
     "output_type": "stream",
     "text": [
      "                                    Tweet  \\\n",
      "0          AI is transforming the future!   \n",
      "1  Can't believe how fast AI is evolving.   \n",
      "2      Not a fan of the latest AI trends.   \n",
      "3    AI ethics should be taken seriously.   \n",
      "4            Machine learning is so cool!   \n",
      "\n",
      "                          Cleaned_Tweet Sentiment  \n",
      "0         ai is transforming the future  positive  \n",
      "1  cant believe how fast ai is evolving  positive  \n",
      "2     not a fan of the latest ai trends  negative  \n",
      "3   ai ethics should be taken seriously   neutral  \n",
      "4           machine learning is so cool  positive  \n"
     ]
    }
   ],
   "source": [
    "import pandas as pd\n",
    "import re\n",
    "from sklearn.feature_extraction.text import TfidfVectorizer\n",
    "\n",
    "# Load your tweet dataset\n",
    "df = pd.read_csv(r\"C:\\Users\\91944\\Desktop\\sentimental-analysis-prediction\\100_tweets_sample.csv\")\n",
    "\n",
    "# Function to clean tweets\n",
    "def clean_text(text):\n",
    "    text = text.lower()                          # Lowercase\n",
    "    text = re.sub(r\"http\\S+\", \"\", text)          # Remove URLs\n",
    "    text = re.sub(r\"@\\w+\", \"\", text)             # Remove mentions\n",
    "    text = re.sub(r\"#\\w+\", \"\", text)             # Remove hashtags\n",
    "    text = re.sub(r\"[^a-zA-Z\\s]\", \"\", text)      # Remove punctuations & numbers\n",
    "    return text.strip()\n",
    "\n",
    "# Apply cleaning\n",
    "df[\"Cleaned_Tweet\"] = df[\"Tweet\"].apply(clean_text)\n",
    "\n",
    "# Show the cleaned data\n",
    "print(df[[\"Tweet\", \"Cleaned_Tweet\", \"Sentiment\"]].head())\n",
    "\n",
    "# Vectorize the text using TF-IDF\n",
    "vectorizer = TfidfVectorizer()\n",
    "X = vectorizer.fit_transform(df[\"Cleaned_Tweet\"])\n"
   ]
  },
  {
   "cell_type": "code",
   "execution_count": 6,
   "id": "eb560ef7",
   "metadata": {},
   "outputs": [
    {
     "name": "stdout",
     "output_type": "stream",
     "text": [
      "Index(['Tweet', 'Sentiment'], dtype='object')\n"
     ]
    }
   ],
   "source": [
    "print(df.columns)\n"
   ]
  },
  {
   "cell_type": "code",
   "execution_count": 7,
   "id": "6b915ded",
   "metadata": {},
   "outputs": [
    {
     "data": {
      "image/png": "[encoded data removed]",
      "text/plain": [
       "<Figure size 640x480 with 1 Axes>"
      ]
     },
     "metadata": {},
     "output_type": "display_data"
    }
   ],
   "source": [
    "import seaborn as sns\n",
    "import matplotlib.pyplot as plt\n",
    "\n",
    "sns.countplot(x='Sentiment', data=df)\n",
    "plt.title(\"Sentiment Distribution\")\n",
    "plt.show()\n"
   ]
  },
  {
   "cell_type": "code",
   "execution_count": null,
   "id": "ed736bd4",
   "metadata": {},
   "outputs": [],
   "source": [
    "import pandas as pd\n",
    "\n",
    "df = pd.read_csv(r\"C:\\Users\\91944\\Desktop\\sentimental-analysis-prediction\\100_tweets_sample.csv\")\n",
    "print(df.columns)\n"
   ]
  },
  {
   "cell_type": "code",
   "execution_count": 17,
   "id": "4f9cfb75",
   "metadata": {},
   "outputs": [
    {
     "name": "stdout",
     "output_type": "stream",
     "text": [
      "                                    Tweet Sentiment  \\\n",
      "0          AI is transforming the future!  positive   \n",
      "1  Can't believe how fast AI is evolving.  positive   \n",
      "2      Not a fan of the latest AI trends.  negative   \n",
      "3    AI ethics should be taken seriously.   neutral   \n",
      "4            Machine learning is so cool!  positive   \n",
      "\n",
      "                          Cleaned_Tweet  \n",
      "0         ai is transforming the future  \n",
      "1  cant believe how fast ai is evolving  \n",
      "2     not a fan of the latest ai trends  \n",
      "3   ai ethics should be taken seriously  \n",
      "4           machine learning is so cool  \n"
     ]
    }
   ],
   "source": [
    "import pandas as pd\n",
    "import re\n",
    "\n",
    "# Load your tweet dataset\n",
    "df = pd.read_csv(r\"C:\\Users\\91944\\Desktop\\sentimental-analysis-prediction\\100_tweets_sample.csv\")\n",
    "\n",
    "# Text cleaning function\n",
    "def clean_text(text):\n",
    "    text = text.lower()                          # lowercase\n",
    "    text = re.sub(r'http\\S+', '', text)          # remove links\n",
    "    text = re.sub(r'[^a-zA-Z\\s]', '', text)      # remove punctuation and numbers\n",
    "    text = re.sub(r'\\s+', ' ', text).strip()     # remove extra spaces\n",
    "    return text\n",
    "\n",
    "# Apply cleaning function to 'Tweet' column\n",
    "df['Cleaned_Tweet'] = df['Tweet'].apply(clean_text)\n",
    "\n",
    "# Show result\n",
    "print(df.head())\n"
   ]
  },
  {
   "cell_type": "code",
   "execution_count": 18,
   "id": "50b259b9",
   "metadata": {},
   "outputs": [
    {
     "name": "stdout",
     "output_type": "stream",
     "text": [
      "Shape of TF-IDF matrix: (100, 39)\n"
     ]
    }
   ],
   "source": [
    "from sklearn.feature_extraction.text import TfidfVectorizer\n",
    "\n",
    "# Initialize the TF-IDF Vectorizer\n",
    "vectorizer = TfidfVectorizer()\n",
    "\n",
    "# Transform the cleaned tweets\n",
    "X = vectorizer.fit_transform(df['Cleaned_Tweet'])\n",
    "\n",
    "# Check the shape of the feature matrix\n",
    "print(\"Shape of TF-IDF matrix:\", X.shape)\n"
   ]
  },
  {
   "cell_type": "code",
   "execution_count": 19,
   "id": "068927c2",
   "metadata": {},
   "outputs": [
    {
     "name": "stdout",
     "output_type": "stream",
     "text": [
      "Encoded Sentiment Labels: [2 2 0 1 2]\n"
     ]
    }
   ],
   "source": [
    "from sklearn.preprocessing import LabelEncoder\n",
    "\n",
    "# Initialize encoder\n",
    "le = LabelEncoder()\n",
    "\n",
    "# Encode the sentiment column\n",
    "y = le.fit_transform(df['Sentiment'])\n",
    "\n",
    "# Check encoded values\n",
    "print(\"Encoded Sentiment Labels:\", y[:5])\n"
   ]
  },
  {
   "cell_type": "code",
   "execution_count": 21,
   "id": "9684c778",
   "metadata": {},
   "outputs": [
    {
     "name": "stdout",
     "output_type": "stream",
     "text": [
      "Shape of TF-IDF matrix: (100, 39)\n"
     ]
    }
   ],
   "source": [
    "from sklearn.feature_extraction.text import TfidfVectorizer\n",
    "\n",
    "# Optional: clean the tweets if not already done\n",
    "# df['Cleaned_Tweet'] = df['Tweet'].apply(lambda x: ...)\n",
    "\n",
    "# Use TF-IDF to convert text to features\n",
    "vectorizer = TfidfVectorizer()\n",
    "tfidf_matrix = vectorizer.fit_transform(df['Cleaned_Tweet'])\n",
    "\n",
    "print(\"Shape of TF-IDF matrix:\", tfidf_matrix.shape)\n"
   ]
  },
  {
   "cell_type": "code",
   "execution_count": 22,
   "id": "449187a9",
   "metadata": {},
   "outputs": [
    {
     "name": "stdout",
     "output_type": "stream",
     "text": [
      "Accuracy: 1.0\n",
      "\n",
      "Classification Report:\n",
      "               precision    recall  f1-score   support\n",
      "\n",
      "    negative       1.00      1.00      1.00         4\n",
      "     neutral       1.00      1.00      1.00         4\n",
      "    positive       1.00      1.00      1.00        12\n",
      "\n",
      "    accuracy                           1.00        20\n",
      "   macro avg       1.00      1.00      1.00        20\n",
      "weighted avg       1.00      1.00      1.00        20\n",
      "\n"
     ]
    }
   ],
   "source": [
    "from sklearn.model_selection import train_test_split\n",
    "from sklearn.naive_bayes import MultinomialNB\n",
    "from sklearn.metrics import classification_report, accuracy_score\n",
    "\n",
    "# Split the dataset into training and test sets (80% train, 20% test)\n",
    "X_train, X_test, y_train, y_test = train_test_split(tfidf_matrix, y, test_size=0.2, random_state=42)\n",
    "\n",
    "# Initialize and train the Naive Bayes model\n",
    "model = MultinomialNB()\n",
    "model.fit(X_train, y_train)\n",
    "\n",
    "# Predict on the test set\n",
    "y_pred = model.predict(X_test)\n",
    "\n",
    "# Evaluate the model\n",
    "print(\"Accuracy:\", accuracy_score(y_test, y_pred))\n",
    "print(\"\\nClassification Report:\\n\", classification_report(y_test, y_pred, target_names=le.classes_))\n"
   ]
  },
  {
   "cell_type": "code",
   "execution_count": 23,
   "id": "8ca05edd",
   "metadata": {},
   "outputs": [
    {
     "data": {
      "text/plain": [
       "['label_encoder.pkl']"
      ]
     },
     "execution_count": 23,
     "metadata": {},
     "output_type": "execute_result"
    }
   ],
   "source": [
    "import joblib\n",
    "\n",
    "joblib.dump(model, \"sentiment_model.pkl\")\n",
    "joblib.dump(vectorizer, \"tfidf_vectorizer.pkl\")\n",
    "joblib.dump(le, \"label_encoder.pkl\")\n"
   ]
  },
  {
   "cell_type": "code",
   "execution_count": 26,
   "id": "f2ac1647",
   "metadata": {},
   "outputs": [
    {
     "name": "stdout",
     "output_type": "stream",
     "text": [
      "Predicted Sentiment: positive\n"
     ]
    }
   ],
   "source": [
    "text_input = input(\"Enter a tweet: \")\n",
    "cleaned_input = clean_text(text_input)\n",
    "vector_input = vectorizer.transform([cleaned_input])\n",
    "predicted_label = le.inverse_transform(model.predict(vector_input))\n",
    "print(f\"Predicted Sentiment: {predicted_label[0]}\")\n"
   ]
  }
 ],
 "metadata": {
  "kernelspec": {
   "display_name": "venv",
   "language": "python",
   "name": "python3"
  },
  "language_info": {
   "codemirror_mode": {
    "name": "ipython",
    "version": 3
   },
   "file_extension": ".py",
   "mimetype": "text/x-python",
   "name": "python",
   "nbconvert_exporter": "python",
   "pygments_lexer": "ipython3",
   "version": "3.12.6"
  }
 },
 "nbformat": 4,
 "nbformat_minor": 5
}
